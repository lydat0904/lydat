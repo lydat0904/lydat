{
 "cells": [
  {
   "cell_type": "code",
   "execution_count": 27,
   "id": "aa72b13d",
   "metadata": {},
   "outputs": [
    {
     "name": "stdout",
     "output_type": "stream",
     "text": [
      "1\n",
      "3\n",
      "5\n",
      "7\n",
      "9\n",
      "11\n",
      "13\n",
      "15\n",
      "17\n",
      "19\n",
      "21\n",
      "23\n",
      "25\n",
      "27\n",
      "29\n",
      "31\n",
      "33\n",
      "35\n",
      "37\n",
      "39\n",
      "41\n",
      "43\n",
      "45\n",
      "47\n",
      "49\n",
      "51\n",
      "53\n",
      "55\n",
      "57\n",
      "59\n",
      "61\n",
      "63\n",
      "65\n",
      "67\n",
      "69\n",
      "71\n",
      "73\n",
      "75\n",
      "77\n",
      "79\n",
      "81\n",
      "83\n",
      "85\n",
      "87\n",
      "89\n",
      "91\n",
      "93\n",
      "95\n",
      "97\n",
      "99\n"
     ]
    }
   ],
   "source": [
    "x=1\n",
    "for i in range (100):\n",
    "    if x%2==1:\n",
    "        print(x)\n",
    "    x=x+1"
   ]
  },
  {
   "cell_type": "code",
   "execution_count": 28,
   "id": "38898113",
   "metadata": {},
   "outputs": [
    {
     "name": "stdout",
     "output_type": "stream",
     "text": [
      "6\n",
      "12\n",
      "18\n",
      "24\n",
      "30\n",
      "36\n",
      "42\n",
      "48\n",
      "54\n",
      "60\n",
      "66\n",
      "72\n",
      "78\n",
      "84\n",
      "90\n",
      "96\n"
     ]
    }
   ],
   "source": [
    "x=1\n",
    "for i in range(100):\n",
    "    if x%6==0:\n",
    "        print(x)\n",
    "    x=x+1"
   ]
  },
  {
   "cell_type": "code",
   "execution_count": 29,
   "id": "041143aa",
   "metadata": {},
   "outputs": [
    {
     "name": "stdout",
     "output_type": "stream",
     "text": [
      "3\n",
      "6\n",
      "9\n",
      "12\n",
      "15\n",
      "18\n",
      "21\n",
      "24\n",
      "27\n",
      "30\n"
     ]
    }
   ],
   "source": [
    "x=int(input())\n",
    "a=x\n",
    "for i in range (10):\n",
    "    print(x)\n",
    "    x=x+a"
   ]
  },
  {
   "cell_type": "code",
   "execution_count": 30,
   "id": "a0fcf76b",
   "metadata": {},
   "outputs": [
    {
     "name": "stdout",
     "output_type": "stream",
     "text": [
      "  *\n",
      " * *\n",
      "*****\n"
     ]
    }
   ],
   "source": [
    "x=int(input())\n",
    "for i in range(1,x+1):\n",
    "    a=x-i\n",
    "    if i==1:\n",
    "        print(\" \"*a+\"*\")\n",
    "    elif i==x:\n",
    "        print(\"*\"*(2*x-1))\n",
    "    else:\n",
    "        b=2*i-3\n",
    "        print(\" \"*a+\"*\"+\" \"*b+\"*\")"
   ]
  },
  {
   "cell_type": "code",
   "execution_count": 31,
   "id": "41eebafc",
   "metadata": {},
   "outputs": [
    {
     "ename": "ValueError",
     "evalue": "invalid literal for int() with base 10: ''",
     "output_type": "error",
     "traceback": [
      "\u001b[1;31m---------------------------------------------------------------------------\u001b[0m",
      "\u001b[1;31mValueError\u001b[0m                                Traceback (most recent call last)",
      "Cell \u001b[1;32mIn[31], line 2\u001b[0m\n\u001b[0;32m      1\u001b[0m a\u001b[38;5;241m=\u001b[39m\u001b[38;5;241m0\u001b[39m\n\u001b[1;32m----> 2\u001b[0m x\u001b[38;5;241m=\u001b[39m\u001b[38;5;28mint\u001b[39m(\u001b[38;5;28minput\u001b[39m())\n\u001b[0;32m      3\u001b[0m \u001b[38;5;28;01mfor\u001b[39;00m i \u001b[38;5;129;01min\u001b[39;00m \u001b[38;5;28mrange\u001b[39m(x\u001b[38;5;241m+\u001b[39m\u001b[38;5;241m1\u001b[39m):\n\u001b[0;32m      4\u001b[0m     a\u001b[38;5;241m=\u001b[39ma\u001b[38;5;241m+\u001b[39mi\n",
      "\u001b[1;31mValueError\u001b[0m: invalid literal for int() with base 10: ''"
     ]
    }
   ],
   "source": [
    "a=0\n",
    "x=int(input())\n",
    "for i in range(x+1):\n",
    "    a=a+i\n",
    "print (a)"
   ]
  },
  {
   "cell_type": "code",
   "execution_count": null,
   "id": "d4e33177",
   "metadata": {},
   "outputs": [
    {
     "name": "stdout",
     "output_type": "stream",
     "text": [
      "1\n",
      "2\n",
      "4\n",
      "5\n",
      "10\n",
      "20\n",
      "25\n",
      "50\n",
      "100\n"
     ]
    }
   ],
   "source": [
    "x=int(input())\n",
    "for i in range(1,x+1):\n",
    "    if x%i==0:\n",
    "        print(i)"
   ]
  },
  {
   "cell_type": "code",
   "execution_count": null,
   "id": "8ba1bdb6",
   "metadata": {},
   "outputs": [
    {
     "name": "stdout",
     "output_type": "stream",
     "text": [
      "3\n"
     ]
    }
   ],
   "source": [
    "x=int(input())\n",
    "a=0\n",
    "for i in range(1,x+1):\n",
    "    if x%i==0:\n",
    "        a=a+1\n",
    "print(a)\n",
    "        "
   ]
  },
  {
   "cell_type": "code",
   "execution_count": null,
   "id": "d07d69ba",
   "metadata": {},
   "outputs": [
    {
     "name": "stdout",
     "output_type": "stream",
     "text": [
      "2\n"
     ]
    }
   ],
   "source": [
    "a,b=map(int,input().split())\n",
    "h=0\n",
    "if a<b:\n",
    "    for i in range (1,a+1):\n",
    "        if a%i==0 and b%i==0:\n",
    "            h=h+1\n",
    "    print(h)\n",
    "else:\n",
    "    for i in range (1,b+1):\n",
    "        if a%i==0 and b%i==0:\n",
    "            h=h+1\n",
    "    print(h)\n",
    "\n"
   ]
  },
  {
   "cell_type": "code",
   "execution_count": null,
   "id": "7099d69f",
   "metadata": {},
   "outputs": [],
   "source": [
    "x=int(input())\n",
    "for i in range(1,x+1):\n",
    "    if x/i==i:\n",
    "        print(f\"{x} la so chinh phuong\")"
   ]
  },
  {
   "cell_type": "code",
   "execution_count": null,
   "id": "1f7970bc",
   "metadata": {},
   "outputs": [
    {
     "name": "stdout",
     "output_type": "stream",
     "text": [
      "6 la so hoan hao\n"
     ]
    }
   ],
   "source": [
    "x=int(input())\n",
    "a=0\n",
    "for i in range(1,i+1):\n",
    "    if x%i==0:\n",
    "        a=a+i\n",
    "if a==x:\n",
    "    print(f\"{x} la so hoan hao\")\n",
    "else:\n",
    "    print(f\"{x} khong la so hoan hao\")\n",
    "    \n"
   ]
  },
  {
   "cell_type": "code",
   "execution_count": null,
   "id": "148a4fd4",
   "metadata": {},
   "outputs": [
    {
     "name": "stdout",
     "output_type": "stream",
     "text": [
      "-2\n"
     ]
    }
   ],
   "source": [
    "a=int(input())\n",
    "for i in range()\n"
   ]
  },
  {
   "cell_type": "code",
   "execution_count": null,
   "id": "0562a885",
   "metadata": {},
   "outputs": [
    {
     "name": "stdout",
     "output_type": "stream",
     "text": [
      "Khong dung,vui long nhap lai!\n",
      "Khong dung,vui long nhap lai!\n",
      "Ban nhap dung quy tac\n"
     ]
    }
   ],
   "source": [
    "while True:\n",
    "    a=int(input())\n",
    "    if a>0:\n",
    "        print(\"Ban nhap dung quy tac\")\n",
    "        break\n",
    "    else:\n",
    "        print(\"Khong dung,vui long nhap lai!\")"
   ]
  },
  {
   "cell_type": "code",
   "execution_count": null,
   "id": "f3b1e1a2",
   "metadata": {},
   "outputs": [
    {
     "name": "stdout",
     "output_type": "stream",
     "text": [
      "3\n"
     ]
    }
   ],
   "source": [
    "n=int(input())\n",
    "s=0\n",
    "for i in range(1,n+1):\n",
    "    s=s+i\n",
    "    if s-n>=0 and n>i:\n",
    "        print(i-1)\n",
    "        break\n"
   ]
  },
  {
   "cell_type": "code",
   "execution_count": null,
   "id": "4e5711c9",
   "metadata": {},
   "outputs": [
    {
     "name": "stdout",
     "output_type": "stream",
     "text": [
      "211\n"
     ]
    }
   ],
   "source": [
    "a=int(input())\n",
    "s=0\n",
    "while s<=a:\n",
    "    n+=1\n",
    "    s+=1/n\n",
    "print(n)"
   ]
  },
  {
   "cell_type": "code",
   "execution_count": null,
   "id": "02b1fd59",
   "metadata": {},
   "outputs": [
    {
     "name": "stdout",
     "output_type": "stream",
     "text": [
      "max = 3\n",
      "min = 1\n"
     ]
    }
   ],
   "source": [
    "max=None\n",
    "min=None\n",
    "while True:\n",
    "    x=int(input())\n",
    "    if x==-1:\n",
    "        break\n",
    "    if max is None or min is None:\n",
    "        max = min =x\n",
    "    else:\n",
    "        if x>max:\n",
    "            max=x\n",
    "        if x<min:\n",
    "            min=x\n",
    "if max==None:\n",
    "    print(\"khon dung\")\n",
    "else:\n",
    "    print(f\"max = {max}\")\n",
    "    print(f\"min = {min}\")\n",
    "\n",
    "\n",
    "\n",
    "    \n",
    "\n"
   ]
  },
  {
   "cell_type": "code",
   "execution_count": null,
   "id": "a6f054c3",
   "metadata": {},
   "outputs": [
    {
     "name": "stdout",
     "output_type": "stream",
     "text": [
      "4\n"
     ]
    }
   ],
   "source": [
    "a=int(input())\n",
    "b=1\n",
    "while a//10!=0:\n",
    "    b=b+1\n",
    "    a=a//10\n",
    "print(b)"
   ]
  },
  {
   "cell_type": "code",
   "execution_count": null,
   "id": "3a3cfd69",
   "metadata": {},
   "outputs": [
    {
     "name": "stdout",
     "output_type": "stream",
     "text": [
      "co 2 chu so chan\n",
      "co 2 chu so le\n"
     ]
    }
   ],
   "source": [
    "a=int(input())\n",
    "b=0\n",
    "c=0\n",
    "while a!=0:\n",
    "\n",
    "    d=a%10\n",
    "    if d%2==0:\n",
    "        b=b+1\n",
    "    else:\n",
    "        c=c+1\n",
    "    a=a//10\n",
    "print(f\"co {b} chu so chan\")\n",
    "print(f\"co {c} chu so le\")"
   ]
  },
  {
   "cell_type": "code",
   "execution_count": null,
   "id": "36eff118",
   "metadata": {},
   "outputs": [
    {
     "name": "stdout",
     "output_type": "stream",
     "text": [
      "10\n"
     ]
    }
   ],
   "source": [
    "a=int(input())\n",
    "b=0\n",
    "while a!=0:\n",
    "    d=a%10\n",
    "    b=b+d\n",
    "    a=a//10\n",
    "print(b)\n"
   ]
  },
  {
   "cell_type": "code",
   "execution_count": null,
   "id": "f0057261",
   "metadata": {},
   "outputs": [
    {
     "name": "stdout",
     "output_type": "stream",
     "text": [
      "9 la so co dang 3^k\n"
     ]
    }
   ],
   "source": [
    "a=int(input())\n",
    "d=a\n",
    "while a%3==0:\n",
    "    a=a/3\n",
    "if a==1:\n",
    "     print(f\"{d} la so co dang 3^k\")\n",
    "else:\n",
    "     print(f\"{d} khong la so co dang 3^k\")\n",
    "\n"
   ]
  },
  {
   "cell_type": "code",
   "execution_count": 34,
   "id": "7c01b57e",
   "metadata": {},
   "outputs": [
    {
     "name": "stdout",
     "output_type": "stream",
     "text": [
      "5\n"
     ]
    }
   ],
   "source": [
    "a=int(input())\n",
    "b=1\n",
    "c=1\n",
    "while c<=a:\n",
    "    d=b+c\n",
    "    if d>a:\n",
    "        break\n",
    "    b=c\n",
    "    c=d\n",
    "print(c)"
   ]
  },
  {
   "cell_type": "code",
   "execution_count": 36,
   "id": "cdadcefc",
   "metadata": {},
   "outputs": [
    {
     "name": "stdout",
     "output_type": "stream",
     "text": [
      "so chu so nguyen to la 4\n"
     ]
    }
   ],
   "source": [
    "n=int(input())\n",
    "dem=0\n",
    "while n>0:\n",
    "    a=n%10\n",
    "    if a in[2,3,5,7]:\n",
    "        dem+=1\n",
    "    n=n//10\n",
    "print(\"so chu so nguyen to la\", dem)"
   ]
  }
 ],
 "metadata": {
  "kernelspec": {
   "display_name": "base",
   "language": "python",
   "name": "python3"
  },
  "language_info": {
   "codemirror_mode": {
    "name": "ipython",
    "version": 3
   },
   "file_extension": ".py",
   "mimetype": "text/x-python",
   "name": "python",
   "nbconvert_exporter": "python",
   "pygments_lexer": "ipython3",
   "version": "3.13.5"
  }
 },
 "nbformat": 4,
 "nbformat_minor": 5
}
