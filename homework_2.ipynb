{
 "cells": [
  {
   "cell_type": "code",
   "execution_count": 1,
   "id": "98e5ce27",
   "metadata": {},
   "outputs": [
    {
     "name": "stdout",
     "output_type": "stream",
     "text": [
      "dien tich hinh chu nhat la: 6\n",
      "chu vi hinh chu nhat la: 10\n"
     ]
    }
   ],
   "source": [
    "a,b=map(int,input().split())\n",
    "s=a*b\n",
    "p=2*(a+b)\n",
    "print (f\"dien tich hinh chu nhat la: {s}\")\n",
    "print(f\"chu vi hinh chu nhat la: {p}\")"
   ]
  },
  {
   "cell_type": "code",
   "execution_count": 7,
   "id": "6202ce95",
   "metadata": {},
   "outputs": [
    {
     "name": "stdout",
     "output_type": "stream",
     "text": [
      "dien tich hinh chu nhat la: 12.56\n",
      "chu vi hinh chu nhat la: 12.56\n"
     ]
    }
   ],
   "source": [
    "a=int(input())\n",
    "s=3.14*a*a\n",
    "p=3.14*2*a\n",
    "print (f\"dien tich hinh chu nhat la: {s}\")\n",
    "print(f\"chu vi hinh chu nhat la: {p}\")"
   ]
  },
  {
   "cell_type": "code",
   "execution_count": 15,
   "id": "85bffd8b",
   "metadata": {},
   "outputs": [
    {
     "name": "stdout",
     "output_type": "stream",
     "text": [
      "tam giac can\n"
     ]
    }
   ],
   "source": [
    "a,b,c=map(int,input(\"do dai cac canh tam giac la: \").split())\n",
    "if a+b>c and a+c>b and b+c>a:\n",
    "    if a*a+b*b==c*c or a*a+c*c==b*b or b*b+c*c==a*a:\n",
    "        print(\"tam giac vuong\")\n",
    "    elif a==b==c:\n",
    "        print(\"tam giac deu\")\n",
    "        \n",
    "    elif a==b or b==c or a==c:\n",
    "        print(\"tam giac can\")\n",
    "    elif (a*a+b*b==c*c or a*a+c*c==b*b or b*b+c*c==a*a) and (a==b or b==c or a==c):\n",
    "        print(\"tam giac vuong can\")\n",
    "    else:\n",
    "        print(\"tam giac thuong\")\n",
    "else:\n",
    "    print(\"khong la tam giac\")\n",
    "\n",
    "    "
   ]
  },
  {
   "cell_type": "code",
   "execution_count": 16,
   "id": "41514dc3",
   "metadata": {},
   "outputs": [
    {
     "name": "stdout",
     "output_type": "stream",
     "text": [
      "-1.3333333333333333\n"
     ]
    }
   ],
   "source": [
    "a,b=map(float,input().split())\n",
    "x=-b/a\n",
    "print(x)"
   ]
  },
  {
   "cell_type": "code",
   "execution_count": 19,
   "id": "f5e6d60a",
   "metadata": {},
   "outputs": [
    {
     "name": "stdout",
     "output_type": "stream",
     "text": [
      "phuong trinh vo nghiem\n"
     ]
    }
   ],
   "source": [
    "\n",
    "a,b,c=map(float,input().split())\n",
    "x=b*b-4*a*c\n",
    "if x<0:\n",
    "    print(\"phuong trinh vo nghiem\")\n",
    "elif x==0:\n",
    "    x1=(-b)/(2*a)\n",
    "    print(f\"nghiem cua phuong trinh la: {x1}\")\n",
    "else :\n",
    "    x1=(-b-x**1/2)/(2*a)\n",
    "    x2=(-b + x**1/2)/(2*a)\n",
    "    print(f\"nghiem cua phuong trinh la: {x1},{x2}\")"
   ]
  },
  {
   "cell_type": "code",
   "execution_count": 21,
   "id": "62eee79f",
   "metadata": {},
   "outputs": [
    {
     "name": "stdout",
     "output_type": "stream",
     "text": [
      "4\n"
     ]
    }
   ],
   "source": [
    "a,b,c,d=map(int,input().split())\n",
    "x=max(a,b,c,d)\n",
    "print(x)"
   ]
  },
  {
   "cell_type": "code",
   "execution_count": null,
   "id": "070fc6d5",
   "metadata": {},
   "outputs": [],
   "source": [
    "a,b,c,d=map(int,input().split())\n",
    "x=min(a,b,c,d)\n",
    "print(x)"
   ]
  },
  {
   "cell_type": "code",
   "execution_count": 22,
   "id": "c6d70919",
   "metadata": {},
   "outputs": [
    {
     "name": "stdout",
     "output_type": "stream",
     "text": [
      "-1.0\n",
      "2.0\n"
     ]
    }
   ],
   "source": [
    "a,b,n,c,d,m=map(float,input().split())\n",
    "k=c/a\n",
    "a=a*k\n",
    "b=b*k\n",
    "n=n*k\n",
    "c=c-a\n",
    "d=d-b\n",
    "m=m-n\n",
    "y=m/d\n",
    "x=(n-b*y)/a\n",
    "print(x)\n",
    "print (y)"
   ]
  },
  {
   "cell_type": "code",
   "execution_count": 23,
   "id": "4c23c50f",
   "metadata": {},
   "outputs": [
    {
     "name": "stdout",
     "output_type": "stream",
     "text": [
      "1 gio 6 phut 40 giay\n"
     ]
    }
   ],
   "source": [
    "a=int(input())\n",
    "x=int(a/3600)\n",
    "y=int((a-x*3600)/60)\n",
    "z=a-x*3600-y*60\n",
    "print(f\"{x} gio {y} phut {z} giay\")"
   ]
  },
  {
   "cell_type": "code",
   "execution_count": 24,
   "id": "62f87ccd",
   "metadata": {},
   "outputs": [
    {
     "name": "stdout",
     "output_type": "stream",
     "text": [
      "nam trong duong tron\n"
     ]
    }
   ],
   "source": [
    "\n",
    "a,b=map(float,input(\"tam hinh trom: \").split())\n",
    "r=float(input(\"ban kinh hinh tron: \"))\n",
    "x,y=map(float,input(\"toa do diem: \").split())\n",
    "k=(a-x)**2+(b-y)**2\n",
    "h=r**2\n",
    "if h==k:\n",
    "    print(\"nam tren duong tron\")\n",
    "elif h<k:\n",
    "    print(\"nam ngoai duong tron\")\n",
    "else:\n",
    "    print(\"nam trong duong tron\")\n",
    "    \n",
    "    "
   ]
  },
  {
   "cell_type": "code",
   "execution_count": 26,
   "id": "b1f56399",
   "metadata": {},
   "outputs": [
    {
     "name": "stdout",
     "output_type": "stream",
     "text": [
      "3125.0\n"
     ]
    }
   ],
   "source": [
    "a,b=map(float,input().split())\n",
    "x=a**b\n",
    "print(x)"
   ]
  }
 ],
 "metadata": {
  "kernelspec": {
   "display_name": "base",
   "language": "python",
   "name": "python3"
  },
  "language_info": {
   "codemirror_mode": {
    "name": "ipython",
    "version": 3
   },
   "file_extension": ".py",
   "mimetype": "text/x-python",
   "name": "python",
   "nbconvert_exporter": "python",
   "pygments_lexer": "ipython3",
   "version": "3.13.5"
  }
 },
 "nbformat": 4,
 "nbformat_minor": 5
}
