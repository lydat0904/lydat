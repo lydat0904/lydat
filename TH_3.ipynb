{
 "cells": [
  {
   "cell_type": "code",
   "execution_count": null,
   "id": "5ac2307e",
   "metadata": {},
   "outputs": [
    {
     "name": "stdout",
     "output_type": "stream",
     "text": [
      "5\n",
      "1\n",
      "4 1\n"
     ]
    }
   ],
   "source": [
    "#W3A2\n",
    "a,b=map(int,input().split())\n",
    "a=a^b #neu chi dung ở đây sẽ cho ra bit của 1 số khác a và b\n",
    "b=a^b #tuong tự\n",
    "a=a^b\n",
    "print (a ,b)"
   ]
  },
  {
   "cell_type": "code",
   "execution_count": 10,
   "id": "affe0da8",
   "metadata": {},
   "outputs": [
    {
     "name": "stdout",
     "output_type": "stream",
     "text": [
      "3 khong la luy thua cua 2\n"
     ]
    }
   ],
   "source": [
    "#W3A3\n",
    "a=int(input())\n",
    "if a>0 and (a&a-1)==0:\n",
    "    print(f\"{a} la luy thua cua 2\")\n",
    "else:\n",
    "    print(f\"{a} khong la luy thua cua 2\")"
   ]
  },
  {
   "cell_type": "code",
   "execution_count": null,
   "id": "e7d0d80f",
   "metadata": {},
   "outputs": [
    {
     "name": "stdout",
     "output_type": "stream",
     "text": [
      "-2.0\n"
     ]
    }
   ],
   "source": [
    "#W3A4 C1\n",
    "a,b=map(float,input().split())\n",
    "n=a//b\n",
    "print(n)"
   ]
  },
  {
   "cell_type": "code",
   "execution_count": null,
   "id": "b3131ef5",
   "metadata": {},
   "outputs": [
    {
     "name": "stdout",
     "output_type": "stream",
     "text": [
      "0\n"
     ]
    }
   ],
   "source": [
    "#W3A4 C2\n",
    "a,b=map(float,input().split())\n",
    "n=int(a/b)\n",
    "print(n)"
   ]
  },
  {
   "cell_type": "code",
   "execution_count": 22,
   "id": "8580030a",
   "metadata": {},
   "outputs": [
    {
     "name": "stdout",
     "output_type": "stream",
     "text": [
      "1\n"
     ]
    }
   ],
   "source": [
    "#W3A5\n",
    "a,b=map(float,input().split())\n",
    "n=int(a/b)+1\n",
    "print(n)"
   ]
  },
  {
   "cell_type": "code",
   "execution_count": 24,
   "id": "5f388d97",
   "metadata": {},
   "outputs": [
    {
     "name": "stdout",
     "output_type": "stream",
     "text": [
      "Odd\n"
     ]
    }
   ],
   "source": [
    "#W3A6\n",
    "a=float(input())\n",
    "if a%2==0:\n",
    "    print(\"Even\")\n",
    "else:\n",
    "    print(\"Odd\")\n",
    "\n"
   ]
  },
  {
   "cell_type": "code",
   "execution_count": 27,
   "id": "0bbe6d87",
   "metadata": {},
   "outputs": [
    {
     "name": "stdout",
     "output_type": "stream",
     "text": [
      "yes\n"
     ]
    }
   ],
   "source": [
    "#W3A7\n",
    "a,b=map(float,input().split())\n",
    "if a<0 and b<0:\n",
    "    print(\"yes\")\n",
    "else:\n",
    "    print(\"no\")"
   ]
  },
  {
   "cell_type": "code",
   "execution_count": null,
   "id": "3d0926cd",
   "metadata": {},
   "outputs": [],
   "source": [
    "#W3A8\n",
    "a,b=map(input().split())\n",
    "if len(a)>len(b):\n",
    "    print(\"true\")\n",
    "else:\n",
    "    print(\"false\")\n",
    "\n"
   ]
  },
  {
   "cell_type": "code",
   "execution_count": null,
   "id": "b73d0061",
   "metadata": {},
   "outputs": [],
   "source": [
    "#W3A9\n",
    "a,b,c=map(float,input().split())\n",
    "if a+b>c and a+c>b and b+c>a:\n",
    "    print(\"Yes\")\n",
    "else:\n",
    "    print(\"No\")"
   ]
  },
  {
   "cell_type": "code",
   "execution_count": 30,
   "id": "82db3b7a",
   "metadata": {},
   "outputs": [
    {
     "name": "stdout",
     "output_type": "stream",
     "text": [
      "5\n"
     ]
    }
   ],
   "source": [
    "#W3A10\n",
    "a,b,c,d=map(int,input().split())\n",
    "n=max(a,b,c,d)\n",
    "print(n)"
   ]
  },
  {
   "cell_type": "code",
   "execution_count": null,
   "id": "86ee5354",
   "metadata": {},
   "outputs": [],
   "source": [
    "#W3A11\n",
    "a,b,c=map(int,input(\"do dai cac canh tam giac la: \").split())\n",
    "if a+b>c and a+c>b and b+c>a:\n",
    "    if a*a+b*b==c*c or a*a+c*c==b*b or b*b+c*c==a*a:\n",
    "        print(\"tam giac vuong\")\n",
    "    elif a==b==c:\n",
    "        print(\"tam giac deu\")\n",
    "        \n",
    "    elif a==b or b==c or a==c:\n",
    "        print(\"tam giac can\")\n",
    "    elif (a*a+b*b==c*c or a*a+c*c==b*b or b*b+c*c==a*a) and (a==b or b==c or a==c):\n",
    "        print(\"tam giac vuong can\")\n",
    "    else:\n",
    "        print(\"tam giac thuong\")\n",
    "else:\n",
    "    print(\"khong la tam giac\")\n"
   ]
  },
  {
   "cell_type": "code",
   "execution_count": null,
   "id": "822b477e",
   "metadata": {},
   "outputs": [],
   "source": [
    "#W3A12\n",
    "a=int(input())\n",
    "if a%400==0 or (a%4==0 and a%100!=0):\n",
    "    print(\"Yes\")\n",
    "else:\n",
    "    print(\"No\")"
   ]
  },
  {
   "cell_type": "code",
   "execution_count": null,
   "id": "3f21c2d5",
   "metadata": {},
   "outputs": [],
   "source": [
    "#W3A14\n",
    "a,b=map(float,input().split())\n",
    "x=-b/a\n",
    "if a==0 and b!=0:\n",
    "    print (\"Vô nghiệm\")\n",
    "elif a==0 and b==0:\n",
    "    print(\"Vô số nghiệm\")\n",
    "else:\n",
    "    print(x)"
   ]
  },
  {
   "cell_type": "code",
   "execution_count": null,
   "id": "cd73f236",
   "metadata": {},
   "outputs": [],
   "source": [
    "#W3A15\n",
    "a=float(input())\n",
    "if a<0:\n",
    "    print(\"khong hop le\")\n",
    "elif 0<=a<5:\n",
    "    print(\"yeu\")\n",
    "elif 5<=a<6.5:\n",
    "    print(\"trung binh\")\n",
    "elif 6.5<=a<8:\n",
    "    print(\"kha\")\n",
    "elif 8<=a<=10:\n",
    "    print(\"gioi\")\n",
    "else :\n",
    "    print(\"khong hop le \")"
   ]
  },
  {
   "cell_type": "code",
   "execution_count": 32,
   "id": "0b3d0daa",
   "metadata": {},
   "outputs": [
    {
     "name": "stdout",
     "output_type": "stream",
     "text": [
      "4\n"
     ]
    }
   ],
   "source": [
    "#W3A16\n",
    "a=float(input())\n",
    "n=a-int(a)\n",
    "if n <0.5:\n",
    "    n=int(a)\n",
    "    print(n)\n",
    "else:\n",
    "    n=int(a)+1\n",
    "    print(n)"
   ]
  },
  {
   "cell_type": "code",
   "execution_count": 36,
   "id": "ee4361ad",
   "metadata": {},
   "outputs": [
    {
     "name": "stdout",
     "output_type": "stream",
     "text": [
      "No\n"
     ]
    }
   ],
   "source": [
    "#W3A17\n",
    "a,b,c,d=map(int,input().split())\n",
    "if b%a==0:\n",
    "    h=b/a\n",
    "    if c==b*h:\n",
    "        if d==c*h:\n",
    "            print(\"Yes\")\n",
    "        else:\n",
    "            print(\"No\")\n",
    "    else:\n",
    "        print(\"No\")\n",
    "else:\n",
    "    print(\"No\")\n",
    "\n"
   ]
  }
 ],
 "metadata": {
  "kernelspec": {
   "display_name": "Python 3",
   "language": "python",
   "name": "python3"
  },
  "language_info": {
   "codemirror_mode": {
    "name": "ipython",
    "version": 3
   },
   "file_extension": ".py",
   "mimetype": "text/x-python",
   "name": "python",
   "nbconvert_exporter": "python",
   "pygments_lexer": "ipython3",
   "version": "3.13.7"
  }
 },
 "nbformat": 4,
 "nbformat_minor": 5
}
