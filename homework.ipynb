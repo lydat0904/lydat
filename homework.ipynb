{
 "cells": [
  {
   "cell_type": "markdown",
   "id": "3950779f-3b58-45f4-9031-a1c351e28cc8",
   "metadata": {},
   "source": [
    "# "
   ]
  },
  {
   "cell_type": "code",
   "execution_count": 15,
   "id": "b33244ff-4785-403b-9c2c-7b9188846e58",
   "metadata": {},
   "outputs": [
    {
     "data": {
      "text/plain": [
       "4"
      ]
     },
     "execution_count": 15,
     "metadata": {},
     "output_type": "execute_result"
    }
   ],
   "source": [
    "#bai_1\n",
    "a=int(input())\n",
    "n=2*a\n",
    "n"
   ]
  },
  {
   "cell_type": "code",
   "execution_count": null,
   "id": "9e01a512-2cdd-45d3-a561-a9d39907ae61",
   "metadata": {},
   "outputs": [
    {
     "name": "stdout",
     "output_type": "stream",
     "text": [
      "2.86\n"
     ]
    }
   ],
   "source": [
    "#bai_2\n",
    "a=int(input(\"do dai chieu rong: \"))\n",
    "b=int(input(\"do dai chieu dai: \"))\n",
    "s=a*b-3.14*a*a/4\n",
    "print(f'{s:.2f}')"
   ]
  },
  {
   "cell_type": "code",
   "execution_count": null,
   "id": "8aee378b-bf62-408c-b1b4-9121a63d2e87",
   "metadata": {},
   "outputs": [
    {
     "name": "stdout",
     "output_type": "stream",
     "text": [
      "A\n"
     ]
    }
   ],
   "source": [
    "#bai_3\n",
    "a=input()\n",
    "if 64<ord(a)<91:\n",
    "    a=chr(ord(a)+32)\n",
    "    print(a)\n",
    "elif 96<ord(a)<123:\n",
    "    a=chr(ord(a)-32)\n",
    "    print(a)\n",
    "else:\n",
    "    print(\"khong phai chu cai\")\n",
    "    "
   ]
  },
  {
   "cell_type": "code",
   "execution_count": 18,
   "id": "43f4f151",
   "metadata": {},
   "outputs": [
    {
     "name": "stdout",
     "output_type": "stream",
     "text": [
      "a la ky tu alphabet\n"
     ]
    }
   ],
   "source": [
    "#bai_4\n",
    "a=input()\n",
    "if 64<ord(a)<91 or 96<ord(a)<123:\n",
    "    print(f\"{a} la ky tu alphabet\")\n",
    "else:\n",
    "    print(f\"{a} khong phai la ky tu alphabet\")"
   ]
  },
  {
   "cell_type": "code",
   "execution_count": null,
   "id": "138370d0-1230-498c-94dd-cb7ef94b943f",
   "metadata": {},
   "outputs": [],
   "source": [
    "#bai_5\n",
    "a=input()\n",
    "if 65<ord(a)<91:\n",
    "    a=chr(ord(a)+31)\n",
    "    print(a)\n",
    "elif ord(a)==65:\n",
    "    print(\"dac biet\")\n",
    "else :\n",
    "    print(\"khong phai chu cai in hoa\")"
   ]
  },
  {
   "cell_type": "code",
   "execution_count": 21,
   "id": "ba795371",
   "metadata": {},
   "outputs": [
    {
     "name": "stdout",
     "output_type": "stream",
     "text": [
      "6.0\n"
     ]
    }
   ],
   "source": [
    "#bai_6\n",
    "import math\n",
    "a,b,c=map(int,input().split())\n",
    "p=(a+b+c)/2\n",
    "if a+b>c or a+c>b or b+c>a:\n",
    "    s = math.sqrt(p*(p-a)*(p-b)*(p-c))\n",
    "    print(s)\n",
    "else:\n",
    "    print(\"khong phai 3 canh cua tam giac\")\n",
    "\n"
   ]
  },
  {
   "cell_type": "code",
   "execution_count": 22,
   "id": "2ba6aff6",
   "metadata": {},
   "outputs": [
    {
     "name": "stdout",
     "output_type": "stream",
     "text": [
      "6.0\n"
     ]
    }
   ],
   "source": [
    "#bai_6\n",
    "a,b,c=map(int,input().split())\n",
    "p=(a+b+c)/2\n",
    "if a+b>c or a+c>b or b+c>a:\n",
    "    s*s== p*(p-a)*(p-b)*(p-c)\n",
    "    print(s)\n",
    "else:\n",
    "    print(\"khong phai 3 canh cua tam giac\")"
   ]
  },
  {
   "cell_type": "code",
   "execution_count": null,
   "id": "36aa2c85-9d0e-4f7e-b6b1-a9b73cca914e",
   "metadata": {},
   "outputs": [
    {
     "name": "stdout",
     "output_type": "stream",
     "text": [
      " wsdfghjklerfgthjklcvbnm\n"
     ]
    },
    {
     "name": "stdout",
     "output_type": "stream",
     "text": [
      "g\n",
      "l\n"
     ]
    }
   ],
   "source": [
    "#bai_7\n",
    "c=input()\n",
    "if len(c)>=20:\n",
    "    print (c[4])\n",
    "    print (c[8])\n",
    "else :\n",
    "    print (\"khong du ky tu\")"
   ]
  },
  {
   "cell_type": "code",
   "execution_count": null,
   "id": "d3b201bb-3fb9-493e-aa4d-f50535694f05",
   "metadata": {},
   "outputs": [
    {
     "name": "stdout",
     "output_type": "stream",
     "text": [
      "Ten chu ho:  Pham Xuan Toai\n",
      "Chi so dien thanh nay:  1070\n",
      "Chi so dien thang truoc:  1020\n"
     ]
    },
    {
     "name": "stdout",
     "output_type": "stream",
     "text": [
      "Ho va ten: Pham Xuan Toai\n",
      "So tien phai tra: 107136.0\n"
     ]
    }
   ],
   "source": [
    "#bai_8\n",
    "q=input(\"Ten chu ho: \")\n",
    "b=int(input(\"Chi so dien thanh nay: \"))\n",
    "c=int(input(\"Chi so dien thang truoc: \"))\n",
    "def t(a):\n",
    "    if 0<=a<=50:\n",
    "        return a*1984\n",
    "    elif 51<=a<=100:\n",
    "        return 1984*50+(a-50)*2050\n",
    "    elif 101<=a<=200:\n",
    "        return (2050+1984)*50+(a-100)*2380\n",
    "    elif 201<=a<=300:\n",
    "        return (2050+1984)*50+100*2380+(a-200)*2998\n",
    "    elif 301<=a<=400:\n",
    "        return (2050+1984)*50+100*(2380+2998)+(a-300)*3350\n",
    "    else:\n",
    "        return (2050+1984)*50+100*(2380+2998)+100*3350+(a-400)*3460\n",
    "tien= t(b-c)*1.08\n",
    "print(f\"Ho va ten: {q}\")\n",
    "print(f\"So tien phai tra: {tien}\")\n"
   ]
  },
  {
   "cell_type": "code",
   "execution_count": null,
   "id": "be0cceac-434f-4926-bba3-97dba889437c",
   "metadata": {},
   "outputs": [
    {
     "name": "stdout",
     "output_type": "stream",
     "text": [
      " 2\n"
     ]
    },
    {
     "name": "stdout",
     "output_type": "stream",
     "text": [
      "2 la so chan\n"
     ]
    }
   ],
   "source": [
    "#bai_1.2\n",
    "a=int(input())\n",
    "if a%2==0:\n",
    "    print(f\"{a} la so chan\")\n",
    "else:\n",
    "    print(f\"{a} la so le\")"
   ]
  },
  {
   "cell_type": "code",
   "execution_count": null,
   "id": "dc4c4114-b64d-46e2-af61-7bbea124bc01",
   "metadata": {},
   "outputs": [
    {
     "name": "stdout",
     "output_type": "stream",
     "text": [
      " 25\n"
     ]
    },
    {
     "name": "stdout",
     "output_type": "stream",
     "text": [
      "true\n"
     ]
    }
   ],
   "source": [
    "#bai_2.2\n",
    "a=int(input())\n",
    "if (a-5)%10==0:\n",
    "    print(\"true\")\n",
    "else:\n",
    "    print(\"false\")"
   ]
  },
  {
   "cell_type": "code",
   "execution_count": null,
   "id": "6104672b-a76e-4c26-846f-d50c562d6e95",
   "metadata": {},
   "outputs": [
    {
     "name": "stdout",
     "output_type": "stream",
     "text": [
      " 35\n"
     ]
    },
    {
     "name": "stdout",
     "output_type": "stream",
     "text": [
      "false\n"
     ]
    }
   ],
   "source": [
    "#bai_3.2\n",
    "a=int(input())\n",
    "if a%15==0:\n",
    "    print(\"true\")\n",
    "else :\n",
    "    print(\"false\")"
   ]
  },
  {
   "cell_type": "code",
   "execution_count": null,
   "id": "b5ffe5c4-0bb2-4c24-bbe3-a4bb204384a9",
   "metadata": {},
   "outputs": [
    {
     "name": "stdout",
     "output_type": "stream",
     "text": [
      " 24\n"
     ]
    },
    {
     "name": "stdout",
     "output_type": "stream",
     "text": [
      "du dieu kien tham gia bau cu\n"
     ]
    }
   ],
   "source": [
    "#bai_4.2\n",
    "a=int(input())\n",
    "if a<=0:\n",
    "    print(\"khong hop le\")\n",
    "elif 0<a<18:\n",
    "    print(\"chua du tuoi\")\n",
    "else:\n",
    "    print(\"du dieu kien tham gia bau cu\")"
   ]
  },
  {
   "cell_type": "code",
   "execution_count": null,
   "id": "04142fb4-c57f-403c-b0ae-5665bce0817a",
   "metadata": {},
   "outputs": [
    {
     "name": "stdout",
     "output_type": "stream",
     "text": [
      " 2 2\n"
     ]
    },
    {
     "name": "stdout",
     "output_type": "stream",
     "text": [
      "2 so bang nhau\n"
     ]
    }
   ],
   "source": [
    "#bai_5.2\n",
    "a,b=map(int,input().split())\n",
    "if a>b:\n",
    "    print(a)\n",
    "elif b>a:\n",
    "    print(b)\n",
    "else:\n",
    "    print(\"2 so bang nhau\")"
   ]
  },
  {
   "cell_type": "code",
   "execution_count": null,
   "id": "b9c1e4cc-adcb-41a5-96a5-dd4c32e50cb2",
   "metadata": {},
   "outputs": [
    {
     "name": "stdout",
     "output_type": "stream",
     "text": [
      " 5\n"
     ]
    },
    {
     "name": "stdout",
     "output_type": "stream",
     "text": [
      "5 la so\n"
     ]
    }
   ],
   "source": [
    "#bai_6.2\n",
    "a=input()\n",
    "if 64<ord(a)<91 or 96<ord(a)<123:\n",
    "    print(f\"{a} la chu cai\")\n",
    "elif 47<ord(a)<58:\n",
    "    print(f\"{a} la so\")\n",
    "else :\n",
    "    print(f\"{a} la ky tu khac\")"
   ]
  },
  {
   "cell_type": "code",
   "execution_count": null,
   "id": "12208510-632f-4ed1-83c1-0b3e74f0f625",
   "metadata": {},
   "outputs": [
    {
     "name": "stdout",
     "output_type": "stream",
     "text": [
      " 11\n"
     ]
    },
    {
     "name": "stdout",
     "output_type": "stream",
     "text": [
      "khong hop le \n"
     ]
    }
   ],
   "source": [
    "#bai_7.2\n",
    "a=float(input())\n",
    "if a<0:\n",
    "    print(\"khong hop le\")\n",
    "elif 0<=a<5:\n",
    "    print(\"yeu\")\n",
    "elif 5<=a<6.5:\n",
    "    print(\"trung binh\")\n",
    "elif 6.5<=a<8:\n",
    "    print(\"kha\")\n",
    "elif 8<=a<=10:\n",
    "    print(\"gioi\")\n",
    "else :\n",
    "    print(\"khong hop le \")"
   ]
  },
  {
   "cell_type": "code",
   "execution_count": null,
   "id": "bb06439e-e43d-42f8-85fe-ec07f904bf63",
   "metadata": {},
   "outputs": [
    {
     "name": "stdout",
     "output_type": "stream",
     "text": [
      " 2016\n"
     ]
    },
    {
     "name": "stdout",
     "output_type": "stream",
     "text": [
      "2016 la nam nhuan\n"
     ]
    }
   ],
   "source": [
    "#bai_8.2\n",
    "a=int(input())\n",
    "if a%400==0 or (a%4==0 and a%100!=0):\n",
    "    print(f\"{a} la nam nhuan\")\n",
    "else:\n",
    "    print(f\"{a} khong la nam nhuan\")"
   ]
  },
  {
   "cell_type": "code",
   "execution_count": null,
   "id": "b88a1bbb",
   "metadata": {},
   "outputs": [],
   "source": [
    "#bai_9.2\n",
    "x=int(input('Nhap so nguyen tu 0 den 9: '))\n",
    "match x:\n",
    " case 1:\n",
    "     print('one')\n",
    " case 2:\n",
    "     print('two')\n",
    " case 3:\n",
    "     print('three')\n",
    " case 4:\n",
    "     print('four')\n",
    " case 5:\n",
    "     print('five')\n",
    " case 6:\n",
    "     print('six')\n",
    " case 7:\n",
    "     print('seven')\n",
    " case 8:\n",
    "     print('eight')\n",
    " case 9:\n",
    "     print('nine')"
   ]
  },
  {
   "cell_type": "code",
   "execution_count": null,
   "id": "ff051235-ac39-47b6-90b8-b2d687c22de6",
   "metadata": {},
   "outputs": [
    {
     "name": "stdout",
     "output_type": "stream",
     "text": [
      " 5\n"
     ]
    },
    {
     "name": "stdout",
     "output_type": "stream",
     "text": [
      "qua mon\n"
     ]
    }
   ],
   "source": [
    "#bai_10.2\n",
    "a=int(input())\n",
    "if a<0 or a>10:\n",
    "    print(\"khong hop le\")\n",
    "elif 4<=a<=10:\n",
    "    print(\"qua mon\")\n",
    "else:\n",
    "    print (\"truot mon\")"
   ]
  },
  {
   "cell_type": "code",
   "execution_count": null,
   "id": "6efad30a-a91d-480c-bfaf-0e96a90d9442",
   "metadata": {},
   "outputs": [
    {
     "name": "stdout",
     "output_type": "stream",
     "text": [
      " 2007\n"
     ]
    },
    {
     "name": "stdout",
     "output_type": "stream",
     "text": [
      "18\n",
      "du 18 tuoi\n"
     ]
    }
   ],
   "source": [
    "#bai_11.2\n",
    "a= int(input())\n",
    "b=2025-a\n",
    "print(b)\n",
    "if a<0 and a>2025:\n",
    "    print(\"khong dung\")\n",
    "else:\n",
    "    if b>=18:\n",
    "        print (\"du 18 tuoi\")\n",
    "    else:\n",
    "        print(\"chua du 18 tuoi\")\n"
   ]
  },
  {
   "cell_type": "code",
   "execution_count": null,
   "id": "13de5b18-9ba1-488f-bd84-2352cd131d52",
   "metadata": {},
   "outputs": [
    {
     "name": "stdout",
     "output_type": "stream",
     "text": [
      "ngay thang nam hien tai:  23 9 2025\n",
      "ngay thang nam sinh:  30 2 2007\n"
     ]
    },
    {
     "name": "stdout",
     "output_type": "stream",
     "text": [
      "khong dung\n"
     ]
    }
   ],
   "source": [
    "#khong phai bai tap \n",
    "n,t,m=map(int,input(\"ngay thang nam hien tai: \").split())\n",
    "a,b,c=map(int,input(\"ngay thang nam sinh: \").split())\n",
    "if c>m:\n",
    "    print(\"khong dung\")\n",
    "elif m%400==0 or(m%4==0 and m%100!=0):\n",
    "    if t==2:\n",
    "        if n>29:\n",
    "            print(\"khong dung\")\n",
    "elif c%400==0 or(c%4==0 and c%100!=0):\n",
    "    if b==2:\n",
    "        if s>29:\n",
    "            print(\"khong dung\")\n",
    "elif t==2:\n",
    "    if n>28:\n",
    "        print(\"khong dung\")\n",
    "elif b==2:\n",
    "    if a>28:\n",
    "        print(\"khong dung\")\n",
    "elif m-c>18:\n",
    "    print(\"du 18 tuoi\")\n",
    "elif m-c==18:\n",
    "    if t>b:\n",
    "        print(\"du 18 tuoi\")\n",
    "    elif t==b:\n",
    "        if a>n:\n",
    "            print(\"du 18 tuoi\")\n",
    "        else:\n",
    "            print(\"khon du 18 tuoi\")\n",
    "    else :\n",
    "        print(\"khong du 18 tuoi\")\n",
    "else:\n",
    "    print(\"khong du 18 tuoi\")\n",
    "    \n",
    "            \n"
   ]
  }
 ],
 "metadata": {
  "kernelspec": {
   "display_name": "Python 3",
   "language": "python",
   "name": "python3"
  },
  "language_info": {
   "codemirror_mode": {
    "name": "ipython",
    "version": 3
   },
   "file_extension": ".py",
   "mimetype": "text/x-python",
   "name": "python",
   "nbconvert_exporter": "python",
   "pygments_lexer": "ipython3",
   "version": "3.13.7"
  }
 },
 "nbformat": 4,
 "nbformat_minor": 5
}
